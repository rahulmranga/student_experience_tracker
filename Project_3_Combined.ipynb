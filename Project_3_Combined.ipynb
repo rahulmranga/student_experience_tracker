{
 "cells": [
  {
   "cell_type": "markdown",
   "metadata": {},
   "source": [
    "## UDA Assignment 3 - Crowdsourced Recommender System\n",
    "Created by: Aman Bhardwaj, Blake DeLong, Apurva Harsulkar, Colby Meline, Joel Nail, and Rahul Rangarao"
   ]
  },
  {
   "cell_type": "code",
   "execution_count": 43,
   "metadata": {},
   "outputs": [
    {
     "name": "stderr",
     "output_type": "stream",
     "text": [
      "[nltk_data] Downloading package punkt to\n",
      "[nltk_data]     /Users/amanbhardwaj/nltk_data...\n",
      "[nltk_data]   Package punkt is already up-to-date!\n"
     ]
    }
   ],
   "source": [
    "import numpy as np\n",
    "import pandas as pd\n",
    "import math\n",
    "import nltk\n",
    "nltk.download('punkt')\n",
    "from nltk.corpus import stopwords\n",
    "from nltk.tokenize import word_tokenize, sent_tokenize\n",
    "from nltk.sentiment import SentimentIntensityAnalyzer"
   ]
  },
  {
   "cell_type": "markdown",
   "metadata": {},
   "source": [
    "### Creating a dataframe from our scraped data"
   ]
  },
  {
   "cell_type": "code",
   "execution_count": 56,
   "metadata": {},
   "outputs": [
    {
     "data": {
      "text/plain": "   Unnamed: 0                                              Title  \\\n0         119          What’s up with scammers at campus lately?   \n1         121  The new course evaluation surveys have no ques...   \n2         122  Anyone know where to find the routes and times...   \n3         123  How do you feel about peoples feet up in class...   \n4         125                 Why do dorms outlaw space heaters?   \n\n                                           Post Text      ID  Score  \\\n0  What’s up with scammers at campus lately? Yest...  z88joo     36   \n1  The new course evaluation surveys have no ques...  z90zby     34   \n2  Anyone know where to find the routes and times...  yx8h48     33   \n3  How do you feel about peoples feet up in class...  ykepni     34   \n4  Why do dorms outlaw space heaters? Are space h...  yuwl13     33   \n\n   Total Comments                                           Post URL  \n0               1  https://www.reddit.com/r/UTAustin/comments/z88...  \n1               2  https://www.reddit.com/r/UTAustin/comments/z90...  \n2              17  https://www.reddit.com/r/UTAustin/comments/yx8...  \n3               8  https://www.reddit.com/r/UTAustin/comments/yke...  \n4              23  https://www.reddit.com/r/UTAustin/comments/yuw...  ",
      "text/html": "<div>\n<style scoped>\n    .dataframe tbody tr th:only-of-type {\n        vertical-align: middle;\n    }\n\n    .dataframe tbody tr th {\n        vertical-align: top;\n    }\n\n    .dataframe thead th {\n        text-align: right;\n    }\n</style>\n<table border=\"1\" class=\"dataframe\">\n  <thead>\n    <tr style=\"text-align: right;\">\n      <th></th>\n      <th>Unnamed: 0</th>\n      <th>Title</th>\n      <th>Post Text</th>\n      <th>ID</th>\n      <th>Score</th>\n      <th>Total Comments</th>\n      <th>Post URL</th>\n    </tr>\n  </thead>\n  <tbody>\n    <tr>\n      <th>0</th>\n      <td>119</td>\n      <td>What’s up with scammers at campus lately?</td>\n      <td>What’s up with scammers at campus lately? Yest...</td>\n      <td>z88joo</td>\n      <td>36</td>\n      <td>1</td>\n      <td>https://www.reddit.com/r/UTAustin/comments/z88...</td>\n    </tr>\n    <tr>\n      <th>1</th>\n      <td>121</td>\n      <td>The new course evaluation surveys have no ques...</td>\n      <td>The new course evaluation surveys have no ques...</td>\n      <td>z90zby</td>\n      <td>34</td>\n      <td>2</td>\n      <td>https://www.reddit.com/r/UTAustin/comments/z90...</td>\n    </tr>\n    <tr>\n      <th>2</th>\n      <td>122</td>\n      <td>Anyone know where to find the routes and times...</td>\n      <td>Anyone know where to find the routes and times...</td>\n      <td>yx8h48</td>\n      <td>33</td>\n      <td>17</td>\n      <td>https://www.reddit.com/r/UTAustin/comments/yx8...</td>\n    </tr>\n    <tr>\n      <th>3</th>\n      <td>123</td>\n      <td>How do you feel about peoples feet up in class...</td>\n      <td>How do you feel about peoples feet up in class...</td>\n      <td>ykepni</td>\n      <td>34</td>\n      <td>8</td>\n      <td>https://www.reddit.com/r/UTAustin/comments/yke...</td>\n    </tr>\n    <tr>\n      <th>4</th>\n      <td>125</td>\n      <td>Why do dorms outlaw space heaters?</td>\n      <td>Why do dorms outlaw space heaters? Are space h...</td>\n      <td>yuwl13</td>\n      <td>33</td>\n      <td>23</td>\n      <td>https://www.reddit.com/r/UTAustin/comments/yuw...</td>\n    </tr>\n  </tbody>\n</table>\n</div>"
     },
     "execution_count": 56,
     "metadata": {},
     "output_type": "execute_result"
    }
   ],
   "source": [
    "# creating a dataframe from the review file and dropping any reviews with NA values\n",
    "reviews = pd.read_csv('all_posts_V3.csv')\n",
    "reviews.dropna(inplace=True)\n",
    "reviews.reset_index(drop=True, inplace=True)\n",
    "\n",
    "# defining a list of English stop words to remove from our reviews\n",
    "try:\n",
    "    stop_words = set(stopwords.words('english'))\n",
    "except:\n",
    "    nltk.download('stopwords')\n",
    "    stop_words = set(stopwords.words('english'))\n",
    "reviews['Post Text']=reviews['Title']+ ' ' + reviews['Post Text']\n",
    "reviews.head()"
   ]
  },
  {
   "cell_type": "code",
   "execution_count": 57,
   "outputs": [
    {
     "data": {
      "text/plain": "   Unnamed: 0 Post ID              User  \\\n0           0  z88joo        samureiser   \n1           1  yx574u      AHH-bbyshark   \n2           2  yx574u        federuiz22   \n3           3  yx574u        K3tchupm4n   \n4           4  yx574u  greenieweenie714   \n\n                                                Body  Score  \n0  [Report 'em.](https://police.utexas.edu/servic...     28  \n1  doesn’t everyone say the union smells like shi...     57  \n2  The gender-neutral bathrooms in the San Jac lo...     30  \n3  3rd floor of the McCombs CBA building FOR SURE...     21  \n4  On the floor you enter on in the tower there's...      9  ",
      "text/html": "<div>\n<style scoped>\n    .dataframe tbody tr th:only-of-type {\n        vertical-align: middle;\n    }\n\n    .dataframe tbody tr th {\n        vertical-align: top;\n    }\n\n    .dataframe thead th {\n        text-align: right;\n    }\n</style>\n<table border=\"1\" class=\"dataframe\">\n  <thead>\n    <tr style=\"text-align: right;\">\n      <th></th>\n      <th>Unnamed: 0</th>\n      <th>Post ID</th>\n      <th>User</th>\n      <th>Body</th>\n      <th>Score</th>\n    </tr>\n  </thead>\n  <tbody>\n    <tr>\n      <th>0</th>\n      <td>0</td>\n      <td>z88joo</td>\n      <td>samureiser</td>\n      <td>[Report 'em.](https://police.utexas.edu/servic...</td>\n      <td>28</td>\n    </tr>\n    <tr>\n      <th>1</th>\n      <td>1</td>\n      <td>yx574u</td>\n      <td>AHH-bbyshark</td>\n      <td>doesn’t everyone say the union smells like shi...</td>\n      <td>57</td>\n    </tr>\n    <tr>\n      <th>2</th>\n      <td>2</td>\n      <td>yx574u</td>\n      <td>federuiz22</td>\n      <td>The gender-neutral bathrooms in the San Jac lo...</td>\n      <td>30</td>\n    </tr>\n    <tr>\n      <th>3</th>\n      <td>3</td>\n      <td>yx574u</td>\n      <td>K3tchupm4n</td>\n      <td>3rd floor of the McCombs CBA building FOR SURE...</td>\n      <td>21</td>\n    </tr>\n    <tr>\n      <th>4</th>\n      <td>4</td>\n      <td>yx574u</td>\n      <td>greenieweenie714</td>\n      <td>On the floor you enter on in the tower there's...</td>\n      <td>9</td>\n    </tr>\n  </tbody>\n</table>\n</div>"
     },
     "execution_count": 57,
     "metadata": {},
     "output_type": "execute_result"
    }
   ],
   "source": [
    "# creating a dataframe from the review file and dropping any reviews with NA values\n",
    "commentReviews = pd.read_csv('all_comments_v3.csv')\n",
    "commentReviews.dropna(inplace=True)\n",
    "commentReviews.reset_index(drop=True, inplace=True)\n",
    "\n",
    "# defining a list of English stop words to remove from our reviews\n",
    "try:\n",
    "    stop_words = set(stopwords.words('english'))\n",
    "except:\n",
    "    nltk.download('stopwords')\n",
    "    stop_words = set(stopwords.words('english'))\n",
    "\n",
    "commentReviews.head()"
   ],
   "metadata": {
    "collapsed": false
   }
  },
  {
   "cell_type": "markdown",
   "metadata": {},
   "source": [
    "### Sentiment Analysis"
   ]
  },
  {
   "cell_type": "code",
   "execution_count": 58,
   "metadata": {},
   "outputs": [],
   "source": [
    "sentiment=SentimentIntensityAnalyzer()\n",
    "# setting words that are associated with games to 0 so they don't influence sentiment scores\n",
    "#sentiment.lexicon.update({'combat':0})\n",
    "\n",
    "# function to get sentiment for a review - we take the average of each sentence's sentiment to improve performance\n",
    "def get_sent(text):\n",
    "    scores=[]\n",
    "    text=str(text).lower()\n",
    "    clean_text=[word for word in text.split() if word not in stop_words]\n",
    "    clean_text=' '.join(e for e in clean_text)\n",
    "    for sent in sent_tokenize(text):\n",
    "        scores.append(sentiment.polarity_scores(sent)['compound'])\n",
    "\n",
    "    return np.mean(scores)"
   ]
  },
  {
   "cell_type": "code",
   "execution_count": 59,
   "metadata": {},
   "outputs": [],
   "source": [
    "reviews['sentiment']=reviews['Post Text'].apply(lambda txt: get_sent(txt)) # calculating sentiment for each review"
   ]
  },
  {
   "cell_type": "code",
   "execution_count": 60,
   "outputs": [
    {
     "data": {
      "text/plain": "   Unnamed: 0                                              Title  \\\n0         119          What’s up with scammers at campus lately?   \n1         121  The new course evaluation surveys have no ques...   \n2         122  Anyone know where to find the routes and times...   \n3         123  How do you feel about peoples feet up in class...   \n4         125                 Why do dorms outlaw space heaters?   \n\n                                           Post Text      ID  Score  \\\n0  What’s up with scammers at campus lately? Yest...  z88joo     36   \n1  The new course evaluation surveys have no ques...  z90zby     34   \n2  Anyone know where to find the routes and times...  yx8h48     33   \n3  How do you feel about peoples feet up in class...  ykepni     34   \n4  Why do dorms outlaw space heaters? Are space h...  yuwl13     33   \n\n   Total Comments                                           Post URL  \\\n0               1  https://www.reddit.com/r/UTAustin/comments/z88...   \n1               2  https://www.reddit.com/r/UTAustin/comments/z90...   \n2              17  https://www.reddit.com/r/UTAustin/comments/yx8...   \n3               8  https://www.reddit.com/r/UTAustin/comments/yke...   \n4              23  https://www.reddit.com/r/UTAustin/comments/yuw...   \n\n   sentiment  \n0   0.210750  \n1  -0.177900  \n2   0.403633  \n3   0.031038  \n4  -0.056000  ",
      "text/html": "<div>\n<style scoped>\n    .dataframe tbody tr th:only-of-type {\n        vertical-align: middle;\n    }\n\n    .dataframe tbody tr th {\n        vertical-align: top;\n    }\n\n    .dataframe thead th {\n        text-align: right;\n    }\n</style>\n<table border=\"1\" class=\"dataframe\">\n  <thead>\n    <tr style=\"text-align: right;\">\n      <th></th>\n      <th>Unnamed: 0</th>\n      <th>Title</th>\n      <th>Post Text</th>\n      <th>ID</th>\n      <th>Score</th>\n      <th>Total Comments</th>\n      <th>Post URL</th>\n      <th>sentiment</th>\n    </tr>\n  </thead>\n  <tbody>\n    <tr>\n      <th>0</th>\n      <td>119</td>\n      <td>What’s up with scammers at campus lately?</td>\n      <td>What’s up with scammers at campus lately? Yest...</td>\n      <td>z88joo</td>\n      <td>36</td>\n      <td>1</td>\n      <td>https://www.reddit.com/r/UTAustin/comments/z88...</td>\n      <td>0.210750</td>\n    </tr>\n    <tr>\n      <th>1</th>\n      <td>121</td>\n      <td>The new course evaluation surveys have no ques...</td>\n      <td>The new course evaluation surveys have no ques...</td>\n      <td>z90zby</td>\n      <td>34</td>\n      <td>2</td>\n      <td>https://www.reddit.com/r/UTAustin/comments/z90...</td>\n      <td>-0.177900</td>\n    </tr>\n    <tr>\n      <th>2</th>\n      <td>122</td>\n      <td>Anyone know where to find the routes and times...</td>\n      <td>Anyone know where to find the routes and times...</td>\n      <td>yx8h48</td>\n      <td>33</td>\n      <td>17</td>\n      <td>https://www.reddit.com/r/UTAustin/comments/yx8...</td>\n      <td>0.403633</td>\n    </tr>\n    <tr>\n      <th>3</th>\n      <td>123</td>\n      <td>How do you feel about peoples feet up in class...</td>\n      <td>How do you feel about peoples feet up in class...</td>\n      <td>ykepni</td>\n      <td>34</td>\n      <td>8</td>\n      <td>https://www.reddit.com/r/UTAustin/comments/yke...</td>\n      <td>0.031038</td>\n    </tr>\n    <tr>\n      <th>4</th>\n      <td>125</td>\n      <td>Why do dorms outlaw space heaters?</td>\n      <td>Why do dorms outlaw space heaters? Are space h...</td>\n      <td>yuwl13</td>\n      <td>33</td>\n      <td>23</td>\n      <td>https://www.reddit.com/r/UTAustin/comments/yuw...</td>\n      <td>-0.056000</td>\n    </tr>\n  </tbody>\n</table>\n</div>"
     },
     "execution_count": 60,
     "metadata": {},
     "output_type": "execute_result"
    }
   ],
   "source": [
    "reviews.head()"
   ],
   "metadata": {
    "collapsed": false
   }
  },
  {
   "cell_type": "code",
   "execution_count": 61,
   "metadata": {},
   "outputs": [
    {
     "data": {
      "text/plain": "      Unnamed: 0                                              Title  \\\n1076        2180              College is nothing like Pitch Perfect   \n917         1625    senior wasting my life away, looking for advice   \n717         1323         human feces on the ut west mall station NB   \n1067        2139                                 Class of 23 Moment   \n1174        2557                       Who is lighting cars on fire   \n...          ...                                                ...   \n1161        2504  If anyone’s thinking about dropping a course b...   \n8            130  is there any reason why an RA would knock on s...   \n706         1311  Texas Women’s Basketball taking on defending N...   \n1131        2412           please for the love of god take a shower   \n621         1161  people that go to UT Austin, how do u cope wit...   \n\n                                              Post Text      ID  Score  \\\n1076  College is nothing like Pitch Perfect I watche...  ylo17m    284   \n917   senior wasting my life away, looking for advic...  rbjli2     42   \n717   human feces on the ut west mall station NB the...  xoxkir     81   \n1067  Class of 23 Moment > Lose the most amount of c...  xif6tq    296   \n1174  Who is lighting cars on fire Seriously wtf is ...  d3fein    207   \n...                                                 ...     ...    ...   \n1161  If anyone’s thinking about dropping a course b...  l2a704    217   \n8     is there any reason why an RA would knock on s...  ytlm4e     33   \n706   Texas Women’s Basketball taking on defending N...  tpngaz     80   \n1131  please for the love of god take a shower thank...  yeyjei    232   \n621   people that go to UT Austin, how do u cope wit...  tvj7bp    114   \n\n      Total Comments                                           Post URL  \\\n1076              18  https://www.reddit.com/r/UTAustin/comments/ylo...   \n917                6  https://www.reddit.com/r/UTAustin/comments/rbj...   \n717               16  https://www.reddit.com/r/UTAustin/comments/xox...   \n1067              25  https://www.reddit.com/r/UTAustin/comments/xif...   \n1174              14  https://www.reddit.com/r/UTAustin/comments/d3f...   \n...              ...                                                ...   \n1161              29  https://www.reddit.com/r/UTAustin/comments/l2a...   \n8                  5  https://www.reddit.com/r/UTAustin/comments/ytl...   \n706                3  https://www.reddit.com/r/UTAustin/comments/tpn...   \n1131              29  https://www.reddit.com/r/UTAustin/comments/yey...   \n621              121  https://www.reddit.com/r/UTAustin/comments/tvj...   \n\n      sentiment  \n1076    -0.9393  \n917     -0.8960  \n717     -0.8748  \n1067    -0.8343  \n1174    -0.7845  \n...         ...  \n1161     0.8266  \n8        0.8316  \n706      0.8478  \n1131     0.8779  \n621      0.9660  \n\n[1233 rows x 8 columns]",
      "text/html": "<div>\n<style scoped>\n    .dataframe tbody tr th:only-of-type {\n        vertical-align: middle;\n    }\n\n    .dataframe tbody tr th {\n        vertical-align: top;\n    }\n\n    .dataframe thead th {\n        text-align: right;\n    }\n</style>\n<table border=\"1\" class=\"dataframe\">\n  <thead>\n    <tr style=\"text-align: right;\">\n      <th></th>\n      <th>Unnamed: 0</th>\n      <th>Title</th>\n      <th>Post Text</th>\n      <th>ID</th>\n      <th>Score</th>\n      <th>Total Comments</th>\n      <th>Post URL</th>\n      <th>sentiment</th>\n    </tr>\n  </thead>\n  <tbody>\n    <tr>\n      <th>1076</th>\n      <td>2180</td>\n      <td>College is nothing like Pitch Perfect</td>\n      <td>College is nothing like Pitch Perfect I watche...</td>\n      <td>ylo17m</td>\n      <td>284</td>\n      <td>18</td>\n      <td>https://www.reddit.com/r/UTAustin/comments/ylo...</td>\n      <td>-0.9393</td>\n    </tr>\n    <tr>\n      <th>917</th>\n      <td>1625</td>\n      <td>senior wasting my life away, looking for advice</td>\n      <td>senior wasting my life away, looking for advic...</td>\n      <td>rbjli2</td>\n      <td>42</td>\n      <td>6</td>\n      <td>https://www.reddit.com/r/UTAustin/comments/rbj...</td>\n      <td>-0.8960</td>\n    </tr>\n    <tr>\n      <th>717</th>\n      <td>1323</td>\n      <td>human feces on the ut west mall station NB</td>\n      <td>human feces on the ut west mall station NB the...</td>\n      <td>xoxkir</td>\n      <td>81</td>\n      <td>16</td>\n      <td>https://www.reddit.com/r/UTAustin/comments/xox...</td>\n      <td>-0.8748</td>\n    </tr>\n    <tr>\n      <th>1067</th>\n      <td>2139</td>\n      <td>Class of 23 Moment</td>\n      <td>Class of 23 Moment &gt; Lose the most amount of c...</td>\n      <td>xif6tq</td>\n      <td>296</td>\n      <td>25</td>\n      <td>https://www.reddit.com/r/UTAustin/comments/xif...</td>\n      <td>-0.8343</td>\n    </tr>\n    <tr>\n      <th>1174</th>\n      <td>2557</td>\n      <td>Who is lighting cars on fire</td>\n      <td>Who is lighting cars on fire Seriously wtf is ...</td>\n      <td>d3fein</td>\n      <td>207</td>\n      <td>14</td>\n      <td>https://www.reddit.com/r/UTAustin/comments/d3f...</td>\n      <td>-0.7845</td>\n    </tr>\n    <tr>\n      <th>...</th>\n      <td>...</td>\n      <td>...</td>\n      <td>...</td>\n      <td>...</td>\n      <td>...</td>\n      <td>...</td>\n      <td>...</td>\n      <td>...</td>\n    </tr>\n    <tr>\n      <th>1161</th>\n      <td>2504</td>\n      <td>If anyone’s thinking about dropping a course b...</td>\n      <td>If anyone’s thinking about dropping a course b...</td>\n      <td>l2a704</td>\n      <td>217</td>\n      <td>29</td>\n      <td>https://www.reddit.com/r/UTAustin/comments/l2a...</td>\n      <td>0.8266</td>\n    </tr>\n    <tr>\n      <th>8</th>\n      <td>130</td>\n      <td>is there any reason why an RA would knock on s...</td>\n      <td>is there any reason why an RA would knock on s...</td>\n      <td>ytlm4e</td>\n      <td>33</td>\n      <td>5</td>\n      <td>https://www.reddit.com/r/UTAustin/comments/ytl...</td>\n      <td>0.8316</td>\n    </tr>\n    <tr>\n      <th>706</th>\n      <td>1311</td>\n      <td>Texas Women’s Basketball taking on defending N...</td>\n      <td>Texas Women’s Basketball taking on defending N...</td>\n      <td>tpngaz</td>\n      <td>80</td>\n      <td>3</td>\n      <td>https://www.reddit.com/r/UTAustin/comments/tpn...</td>\n      <td>0.8478</td>\n    </tr>\n    <tr>\n      <th>1131</th>\n      <td>2412</td>\n      <td>please for the love of god take a shower</td>\n      <td>please for the love of god take a shower thank...</td>\n      <td>yeyjei</td>\n      <td>232</td>\n      <td>29</td>\n      <td>https://www.reddit.com/r/UTAustin/comments/yey...</td>\n      <td>0.8779</td>\n    </tr>\n    <tr>\n      <th>621</th>\n      <td>1161</td>\n      <td>people that go to UT Austin, how do u cope wit...</td>\n      <td>people that go to UT Austin, how do u cope wit...</td>\n      <td>tvj7bp</td>\n      <td>114</td>\n      <td>121</td>\n      <td>https://www.reddit.com/r/UTAustin/comments/tvj...</td>\n      <td>0.9660</td>\n    </tr>\n  </tbody>\n</table>\n<p>1233 rows × 8 columns</p>\n</div>"
     },
     "execution_count": 61,
     "metadata": {},
     "output_type": "execute_result"
    }
   ],
   "source": [
    "reviews.sort_values(by='sentiment',ascending=True)"
   ]
  },
  {
   "cell_type": "code",
   "execution_count": 68,
   "outputs": [],
   "source": [
    "commentReviews['comment_sentiment']=commentReviews['Body'].apply(lambda txt: get_sent(txt)) # calculating sentiment for each comment\n"
   ],
   "metadata": {
    "collapsed": false
   }
  },
  {
   "cell_type": "code",
   "execution_count": 71,
   "outputs": [
    {
     "data": {
      "text/plain": "         comment_sentiment\nPost ID                   \n14pige            0.181725\n198ml7           -0.006312\n19evb1            0.129952\n1tjlke            0.196120\n25ua4e            0.155255\n...                    ...\nza00tv            0.231100\nza07sy           -0.029425\nza5suy            0.047033\nza670h            0.099593\nza7dqg            0.133606\n\n[2254 rows x 1 columns]",
      "text/html": "<div>\n<style scoped>\n    .dataframe tbody tr th:only-of-type {\n        vertical-align: middle;\n    }\n\n    .dataframe tbody tr th {\n        vertical-align: top;\n    }\n\n    .dataframe thead th {\n        text-align: right;\n    }\n</style>\n<table border=\"1\" class=\"dataframe\">\n  <thead>\n    <tr style=\"text-align: right;\">\n      <th></th>\n      <th>comment_sentiment</th>\n    </tr>\n    <tr>\n      <th>Post ID</th>\n      <th></th>\n    </tr>\n  </thead>\n  <tbody>\n    <tr>\n      <th>14pige</th>\n      <td>0.181725</td>\n    </tr>\n    <tr>\n      <th>198ml7</th>\n      <td>-0.006312</td>\n    </tr>\n    <tr>\n      <th>19evb1</th>\n      <td>0.129952</td>\n    </tr>\n    <tr>\n      <th>1tjlke</th>\n      <td>0.196120</td>\n    </tr>\n    <tr>\n      <th>25ua4e</th>\n      <td>0.155255</td>\n    </tr>\n    <tr>\n      <th>...</th>\n      <td>...</td>\n    </tr>\n    <tr>\n      <th>za00tv</th>\n      <td>0.231100</td>\n    </tr>\n    <tr>\n      <th>za07sy</th>\n      <td>-0.029425</td>\n    </tr>\n    <tr>\n      <th>za5suy</th>\n      <td>0.047033</td>\n    </tr>\n    <tr>\n      <th>za670h</th>\n      <td>0.099593</td>\n    </tr>\n    <tr>\n      <th>za7dqg</th>\n      <td>0.133606</td>\n    </tr>\n  </tbody>\n</table>\n<p>2254 rows × 1 columns</p>\n</div>"
     },
     "execution_count": 71,
     "metadata": {},
     "output_type": "execute_result"
    }
   ],
   "source": [
    "commentsSentimentsGrouped=pd.DataFrame(commentReviews.groupby(['Post ID'])['comment_sentiment'].mean())\n",
    "commentsSentimentsGrouped"
   ],
   "metadata": {
    "collapsed": false
   }
  },
  {
   "cell_type": "code",
   "execution_count": 73,
   "outputs": [
    {
     "data": {
      "text/plain": "        Unnamed: 0                                              Title  \\\nID                                                                      \nz88joo         119          What’s up with scammers at campus lately?   \nz90zby         121  The new course evaluation surveys have no ques...   \nyx8h48         122  Anyone know where to find the routes and times...   \nykepni         123  How do you feel about peoples feet up in class...   \nyuwl13         125                 Why do dorms outlaw space heaters?   \n...            ...                                                ...   \n8z2rxm        2732  Quadruple majoring in computer science, electr...   \nvzw4am        2734  Here is a list of study spots on and off campu...   \nngt6ha        2736            Horrible grading policy: 98.8% still A-   \nwyqhkh        2741          You survived your first week - well done!   \np6r3si        2743                           Domino's bushes cut down   \n\n                                                Post Text  Score  \\\nID                                                                 \nz88joo  What’s up with scammers at campus lately? Yest...     36   \nz90zby  The new course evaluation surveys have no ques...     34   \nyx8h48  Anyone know where to find the routes and times...     33   \nykepni  How do you feel about peoples feet up in class...     34   \nyuwl13  Why do dorms outlaw space heaters? Are space h...     33   \n...                                                   ...    ...   \n8z2rxm  Quadruple majoring in computer science, electr...    178   \nvzw4am  Here is a list of study spots on and off campu...    182   \nngt6ha  Horrible grading policy: 98.8% still A- I made...    180   \nwyqhkh  You survived your first week - well done! That...    178   \np6r3si  Domino's bushes cut down We went to feed this ...    177   \n\n        Total Comments                                           Post URL  \\\nID                                                                          \nz88joo               1  https://www.reddit.com/r/UTAustin/comments/z88...   \nz90zby               2  https://www.reddit.com/r/UTAustin/comments/z90...   \nyx8h48              17  https://www.reddit.com/r/UTAustin/comments/yx8...   \nykepni               8  https://www.reddit.com/r/UTAustin/comments/yke...   \nyuwl13              23  https://www.reddit.com/r/UTAustin/comments/yuw...   \n...                ...                                                ...   \n8z2rxm              28  https://www.reddit.com/r/UTAustin/comments/8z2...   \nvzw4am              12  https://www.reddit.com/r/UTAustin/comments/vzw...   \nngt6ha              63  https://www.reddit.com/r/UTAustin/comments/ngt...   \nwyqhkh              14  https://www.reddit.com/r/UTAustin/comments/wyq...   \np6r3si              14  https://www.reddit.com/r/UTAustin/comments/p6r...   \n\n        sentiment  comment_sentiment  \nID                                    \nz88joo   0.210750          -0.246950  \nz90zby  -0.177900           0.077200  \nyx8h48   0.403633           0.256528  \nykepni   0.031038           0.069318  \nyuwl13  -0.056000           0.114292  \n...           ...                ...  \n8z2rxm   0.218950           0.062553  \nvzw4am   0.304860           0.275163  \nngt6ha   0.019450           0.104415  \nwyqhkh   0.345000           0.188991  \np6r3si   0.181400           0.036825  \n\n[1233 rows x 8 columns]",
      "text/html": "<div>\n<style scoped>\n    .dataframe tbody tr th:only-of-type {\n        vertical-align: middle;\n    }\n\n    .dataframe tbody tr th {\n        vertical-align: top;\n    }\n\n    .dataframe thead th {\n        text-align: right;\n    }\n</style>\n<table border=\"1\" class=\"dataframe\">\n  <thead>\n    <tr style=\"text-align: right;\">\n      <th></th>\n      <th>Unnamed: 0</th>\n      <th>Title</th>\n      <th>Post Text</th>\n      <th>Score</th>\n      <th>Total Comments</th>\n      <th>Post URL</th>\n      <th>sentiment</th>\n      <th>comment_sentiment</th>\n    </tr>\n    <tr>\n      <th>ID</th>\n      <th></th>\n      <th></th>\n      <th></th>\n      <th></th>\n      <th></th>\n      <th></th>\n      <th></th>\n      <th></th>\n    </tr>\n  </thead>\n  <tbody>\n    <tr>\n      <th>z88joo</th>\n      <td>119</td>\n      <td>What’s up with scammers at campus lately?</td>\n      <td>What’s up with scammers at campus lately? Yest...</td>\n      <td>36</td>\n      <td>1</td>\n      <td>https://www.reddit.com/r/UTAustin/comments/z88...</td>\n      <td>0.210750</td>\n      <td>-0.246950</td>\n    </tr>\n    <tr>\n      <th>z90zby</th>\n      <td>121</td>\n      <td>The new course evaluation surveys have no ques...</td>\n      <td>The new course evaluation surveys have no ques...</td>\n      <td>34</td>\n      <td>2</td>\n      <td>https://www.reddit.com/r/UTAustin/comments/z90...</td>\n      <td>-0.177900</td>\n      <td>0.077200</td>\n    </tr>\n    <tr>\n      <th>yx8h48</th>\n      <td>122</td>\n      <td>Anyone know where to find the routes and times...</td>\n      <td>Anyone know where to find the routes and times...</td>\n      <td>33</td>\n      <td>17</td>\n      <td>https://www.reddit.com/r/UTAustin/comments/yx8...</td>\n      <td>0.403633</td>\n      <td>0.256528</td>\n    </tr>\n    <tr>\n      <th>ykepni</th>\n      <td>123</td>\n      <td>How do you feel about peoples feet up in class...</td>\n      <td>How do you feel about peoples feet up in class...</td>\n      <td>34</td>\n      <td>8</td>\n      <td>https://www.reddit.com/r/UTAustin/comments/yke...</td>\n      <td>0.031038</td>\n      <td>0.069318</td>\n    </tr>\n    <tr>\n      <th>yuwl13</th>\n      <td>125</td>\n      <td>Why do dorms outlaw space heaters?</td>\n      <td>Why do dorms outlaw space heaters? Are space h...</td>\n      <td>33</td>\n      <td>23</td>\n      <td>https://www.reddit.com/r/UTAustin/comments/yuw...</td>\n      <td>-0.056000</td>\n      <td>0.114292</td>\n    </tr>\n    <tr>\n      <th>...</th>\n      <td>...</td>\n      <td>...</td>\n      <td>...</td>\n      <td>...</td>\n      <td>...</td>\n      <td>...</td>\n      <td>...</td>\n      <td>...</td>\n    </tr>\n    <tr>\n      <th>8z2rxm</th>\n      <td>2732</td>\n      <td>Quadruple majoring in computer science, electr...</td>\n      <td>Quadruple majoring in computer science, electr...</td>\n      <td>178</td>\n      <td>28</td>\n      <td>https://www.reddit.com/r/UTAustin/comments/8z2...</td>\n      <td>0.218950</td>\n      <td>0.062553</td>\n    </tr>\n    <tr>\n      <th>vzw4am</th>\n      <td>2734</td>\n      <td>Here is a list of study spots on and off campu...</td>\n      <td>Here is a list of study spots on and off campu...</td>\n      <td>182</td>\n      <td>12</td>\n      <td>https://www.reddit.com/r/UTAustin/comments/vzw...</td>\n      <td>0.304860</td>\n      <td>0.275163</td>\n    </tr>\n    <tr>\n      <th>ngt6ha</th>\n      <td>2736</td>\n      <td>Horrible grading policy: 98.8% still A-</td>\n      <td>Horrible grading policy: 98.8% still A- I made...</td>\n      <td>180</td>\n      <td>63</td>\n      <td>https://www.reddit.com/r/UTAustin/comments/ngt...</td>\n      <td>0.019450</td>\n      <td>0.104415</td>\n    </tr>\n    <tr>\n      <th>wyqhkh</th>\n      <td>2741</td>\n      <td>You survived your first week - well done!</td>\n      <td>You survived your first week - well done! That...</td>\n      <td>178</td>\n      <td>14</td>\n      <td>https://www.reddit.com/r/UTAustin/comments/wyq...</td>\n      <td>0.345000</td>\n      <td>0.188991</td>\n    </tr>\n    <tr>\n      <th>p6r3si</th>\n      <td>2743</td>\n      <td>Domino's bushes cut down</td>\n      <td>Domino's bushes cut down We went to feed this ...</td>\n      <td>177</td>\n      <td>14</td>\n      <td>https://www.reddit.com/r/UTAustin/comments/p6r...</td>\n      <td>0.181400</td>\n      <td>0.036825</td>\n    </tr>\n  </tbody>\n</table>\n<p>1233 rows × 8 columns</p>\n</div>"
     },
     "execution_count": 73,
     "metadata": {},
     "output_type": "execute_result"
    }
   ],
   "source": [
    "combined_df = reviews.set_index('ID').join(commentsSentimentsGrouped)\n",
    "combined_df"
   ],
   "metadata": {
    "collapsed": false
   }
  },
  {
   "cell_type": "code",
   "execution_count": 77,
   "outputs": [
    {
     "data": {
      "text/plain": "         comment_sentiment\nPost ID                   \nz90zby              0.0772",
      "text/html": "<div>\n<style scoped>\n    .dataframe tbody tr th:only-of-type {\n        vertical-align: middle;\n    }\n\n    .dataframe tbody tr th {\n        vertical-align: top;\n    }\n\n    .dataframe thead th {\n        text-align: right;\n    }\n</style>\n<table border=\"1\" class=\"dataframe\">\n  <thead>\n    <tr style=\"text-align: right;\">\n      <th></th>\n      <th>comment_sentiment</th>\n    </tr>\n    <tr>\n      <th>Post ID</th>\n      <th></th>\n    </tr>\n  </thead>\n  <tbody>\n    <tr>\n      <th>z90zby</th>\n      <td>0.0772</td>\n    </tr>\n  </tbody>\n</table>\n</div>"
     },
     "execution_count": 77,
     "metadata": {},
     "output_type": "execute_result"
    }
   ],
   "source": [],
   "metadata": {
    "collapsed": false
   }
  },
  {
   "cell_type": "code",
   "execution_count": null,
   "outputs": [],
   "source": [],
   "metadata": {
    "collapsed": false
   }
  }
 ],
 "metadata": {
  "kernelspec": {
   "display_name": "Python 3 (ipykernel)",
   "language": "python",
   "name": "python3"
  },
  "language_info": {
   "codemirror_mode": {
    "name": "ipython",
    "version": 3
   },
   "file_extension": ".py",
   "mimetype": "text/x-python",
   "name": "python",
   "nbconvert_exporter": "python",
   "pygments_lexer": "ipython3",
   "version": "3.9.7"
  },
  "vscode": {
   "interpreter": {
    "hash": "58f68c893d27d44de5f329b5c78da41b4997af8d492e4e8bd7c62547c498f83b"
   }
  }
 },
 "nbformat": 4,
 "nbformat_minor": 2
}
